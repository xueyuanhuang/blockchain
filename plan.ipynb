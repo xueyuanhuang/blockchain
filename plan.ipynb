{
 "cells": [
  {
   "cell_type": "markdown",
   "id": "a59ad567",
   "metadata": {},
   "source": [
    "# my plan"
   ]
  },
  {
   "cell_type": "markdown",
   "id": "cacca3bf",
   "metadata": {},
   "source": [
    "## BTC and ETH-long\n",
    "dollar-cost averaging for bitcoin and eth\n",
    "\n",
    "## BNB-short\n",
    "1.having 50u bnb in 228\n",
    "\n",
    "2.set price alert in 216 buy 50u\n",
    "\n",
    "3.sell 25u in 241.9\n",
    "\n",
    "4.sell rest in 250\n",
    "\n",
    "## OKB-medium\n",
    "1.buy 25u in 56.11\n",
    "\n",
    "## BLUR-medium\n",
    "1.too high too buy\n",
    "\n",
    "## ORDI-medium\n",
    "1.buy 25u in 18.9"
   ]
  }
 ],
 "metadata": {
  "kernelspec": {
   "display_name": "Python 3 (ipykernel)",
   "language": "python",
   "name": "python3"
  },
  "language_info": {
   "codemirror_mode": {
    "name": "ipython",
    "version": 3
   },
   "file_extension": ".py",
   "mimetype": "text/x-python",
   "name": "python",
   "nbconvert_exporter": "python",
   "pygments_lexer": "ipython3",
   "version": "3.11.3"
  }
 },
 "nbformat": 4,
 "nbformat_minor": 5
}
