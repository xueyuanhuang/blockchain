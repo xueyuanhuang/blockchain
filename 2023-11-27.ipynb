{
 "cells": [
  {
   "cell_type": "markdown",
   "id": "2f54119a",
   "metadata": {},
   "source": [
    "[Web3加密市场周报：市场持续震荡、USTC露娜生态暴涨、Gamefi游戏赛道热度攀升、Friend Tech创始人推特消号、CZ或面临更久监禁 【Vic TALK 第](https://www.youtube.com/watch?v=9wkGm-vWfF4)\n",
    "--\n",
    "\n",
    "[crypto bubbles](https://cryptobubbles.net/)  \n",
    "three gamefi  \n",
    "lunc ecosystem  \n",
    "[mint cash](https://mintca.sh/)  "
   ]
  }
 ],
 "metadata": {
  "kernelspec": {
   "display_name": "Python 3 (ipykernel)",
   "language": "python",
   "name": "python3"
  },
  "language_info": {
   "codemirror_mode": {
    "name": "ipython",
    "version": 3
   },
   "file_extension": ".py",
   "mimetype": "text/x-python",
   "name": "python",
   "nbconvert_exporter": "python",
   "pygments_lexer": "ipython3",
   "version": "3.11.3"
  }
 },
 "nbformat": 4,
 "nbformat_minor": 5
}
