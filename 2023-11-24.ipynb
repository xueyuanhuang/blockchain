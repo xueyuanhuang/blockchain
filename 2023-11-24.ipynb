{
 "cells": [
  {
   "cell_type": "markdown",
   "id": "612c6188",
   "metadata": {},
   "source": [
    "[Web3加密市场早报：感恩节市场进入盘整阶段、比特币生态表现平淡、Okx上线Sol铭文、Blast引发社区讨论 【Vic TALK 第733期】](https://www.youtube.com/watch?v=h8XoRo1KUx4)\n",
    "--"
   ]
  },
  {
   "cell_type": "markdown",
   "id": "7ec9aede",
   "metadata": {},
   "source": [
    "[followup @okxchinese on X](https://twitter.com/okxchinese)"
   ]
  },
  {
   "cell_type": "markdown",
   "id": "f26a4547",
   "metadata": {},
   "source": [
    "[bitcoin ecosystem data](https://mempool.space/)"
   ]
  },
  {
   "cell_type": "markdown",
   "id": "f9b00249",
   "metadata": {},
   "source": [
    "TVL actully is for defi"
   ]
  },
  {
   "cell_type": "markdown",
   "id": "966ad640",
   "metadata": {},
   "source": [
    "[this guy know something about web3 technology](https://twitter.com/evilcos)"
   ]
  },
  {
   "cell_type": "markdown",
   "id": "6734b31d",
   "metadata": {},
   "source": [
    "three biggest black swams, binance, eth, usdt"
   ]
  }
 ],
 "metadata": {
  "kernelspec": {
   "display_name": "Python 3 (ipykernel)",
   "language": "python",
   "name": "python3"
  },
  "language_info": {
   "codemirror_mode": {
    "name": "ipython",
    "version": 3
   },
   "file_extension": ".py",
   "mimetype": "text/x-python",
   "name": "python",
   "nbconvert_exporter": "python",
   "pygments_lexer": "ipython3",
   "version": "3.11.3"
  }
 },
 "nbformat": 4,
 "nbformat_minor": 5
}
