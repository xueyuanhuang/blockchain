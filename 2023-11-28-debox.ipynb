{
 "cells": [
  {
   "cell_type": "markdown",
   "id": "93c31fcb",
   "metadata": {},
   "source": [
    "[Debox：用户体验超好的一站式Web3社交平台 【Vic TALK 第738期】](https://www.youtube.com/watch?v=C9X0YcYuYYI)  \n",
    "[Andrei Grachev head of DWFlab](https://twitter.com/ag_dwf)  \n",
    "[can check dapp related data](https://dappradar.com/)  "
   ]
  }
 ],
 "metadata": {
  "kernelspec": {
   "display_name": "Python 3 (ipykernel)",
   "language": "python",
   "name": "python3"
  },
  "language_info": {
   "codemirror_mode": {
    "name": "ipython",
    "version": 3
   },
   "file_extension": ".py",
   "mimetype": "text/x-python",
   "name": "python",
   "nbconvert_exporter": "python",
   "pygments_lexer": "ipython3",
   "version": "3.11.3"
  }
 },
 "nbformat": 4,
 "nbformat_minor": 5
}
