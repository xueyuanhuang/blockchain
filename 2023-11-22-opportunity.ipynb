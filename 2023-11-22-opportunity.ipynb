{
 "cells": [
  {
   "cell_type": "markdown",
   "id": "a80eb43b",
   "metadata": {},
   "source": [
    "# 2023-11-22"
   ]
  },
  {
   "cell_type": "markdown",
   "id": "43c200b2",
   "metadata": {},
   "source": [
    "binance big event...\n",
    "\n",
    "from short term can buy some bnb. \n",
    "\n",
    "buy 50u, in 228\n",
    "buy 50u, in 203.3 if it can low to than...\n",
    "\n",
    "sell the half in 242\n",
    "sell all in 256 if not sell all in 229"
   ]
  },
  {
   "cell_type": "code",
   "execution_count": null,
   "id": "27d906e4",
   "metadata": {},
   "outputs": [],
   "source": []
  },
  {
   "cell_type": "markdown",
   "id": "71d5acb1",
   "metadata": {},
   "source": [
    "long term not considering bnb, maybe can invest in okb"
   ]
  }
 ],
 "metadata": {
  "kernelspec": {
   "display_name": "Python 3 (ipykernel)",
   "language": "python",
   "name": "python3"
  },
  "language_info": {
   "codemirror_mode": {
    "name": "ipython",
    "version": 3
   },
   "file_extension": ".py",
   "mimetype": "text/x-python",
   "name": "python",
   "nbconvert_exporter": "python",
   "pygments_lexer": "ipython3",
   "version": "3.11.3"
  }
 },
 "nbformat": 4,
 "nbformat_minor": 5
}
